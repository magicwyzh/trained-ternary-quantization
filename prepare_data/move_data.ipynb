{
 "cells": [
  {
   "cell_type": "code",
   "execution_count": 1,
   "metadata": {
    "collapsed": true
   },
   "outputs": [],
   "source": [
    "import pandas as pd\n",
    "\n",
    "import os\n",
    "import shutil\n",
    "from tqdm import tqdm "
   ]
  },
  {
   "cell_type": "markdown",
   "metadata": {},
   "source": [
    "# Summary"
   ]
  },
  {
   "cell_type": "code",
   "execution_count": 2,
   "metadata": {
    "collapsed": true
   },
   "outputs": [],
   "source": [
    "# The purpose of this script is to arrange tiny-imagenet data in the following way:\n",
    "\n",
    "# data_dir/train/n03444034/xxx.JPEG\n",
    "# data_dir/train/n03444034/xxy.JPEG\n",
    "# data_dir/train/n03444034/xxz.JPEG\n",
    "# ...\n",
    "\n",
    "# data_dir/train/n04067472/123.JPEG\n",
    "# data_dir/train/n04067472/nsdf3.JPEG\n",
    "# data_dir/train/n04067472/asd932_.JPEG\n",
    "# ...\n",
    "\n",
    "# And in the same way arrange validation data."
   ]
  },
  {
   "cell_type": "markdown",
   "metadata": {},
   "source": [
    "# Load metadata"
   ]
  },
  {
   "cell_type": "code",
   "execution_count": 3,
   "metadata": {
    "collapsed": true
   },
   "outputs": [],
   "source": [
    "# the folder from tiny-imagenet-200.zip file\n",
    "data_dir = '/home/ubuntu/data/tiny-imagenet-200/'"
   ]
  },
  {
   "cell_type": "code",
   "execution_count": 4,
   "metadata": {
    "collapsed": true
   },
   "outputs": [],
   "source": [
    "val_data = pd.read_csv(data_dir + 'val/val_annotations.txt', sep='\\t', header=None)\n",
    "# drop bounding boxes info\n",
    "val_data.drop([2, 3, 4, 5], axis=1, inplace=True)\n",
    "\n",
    "val_data.columns = ['img_name', 'img_class']"
   ]
  },
  {
   "cell_type": "code",
   "execution_count": 5,
   "metadata": {},
   "outputs": [
    {
     "data": {
      "text/plain": [
       "200"
      ]
     },
     "execution_count": 5,
     "metadata": {},
     "output_type": "execute_result"
    }
   ],
   "source": [
    "unique_classes = val_data.img_class.unique()\n",
    "len(unique_classes)"
   ]
  },
  {
   "cell_type": "markdown",
   "metadata": {},
   "source": [
    "# Move validation data"
   ]
  },
  {
   "cell_type": "code",
   "execution_count": 6,
   "metadata": {
    "collapsed": true
   },
   "outputs": [],
   "source": [
    "# create new folders to move data into\n",
    "os.mkdir(data_dir + 'validation')\n",
    "for name in unique_classes:\n",
    "    os.mkdir(data_dir + 'validation/' + name)"
   ]
  },
  {
   "cell_type": "code",
   "execution_count": 7,
   "metadata": {},
   "outputs": [
    {
     "name": "stderr",
     "output_type": "stream",
     "text": [
      "100%|██████████| 200/200 [00:00<00:00, 384.19it/s]\n"
     ]
    }
   ],
   "source": [
    "# loop over all classes\n",
    "for name in tqdm(unique_classes):\n",
    "    \n",
    "    # choose images from a specific class\n",
    "    class_images = val_data.loc[val_data.img_class == name, 'img_name'].values\n",
    "    \n",
    "    # copy images to a new folder\n",
    "    for img in class_images:\n",
    "        shutil.copyfile(\n",
    "            data_dir + 'val/images/' + img,\n",
    "            data_dir + 'validation/' + name + '/' + img\n",
    "        )"
   ]
  },
  {
   "cell_type": "markdown",
   "metadata": {},
   "source": [
    "# Move training data"
   ]
  },
  {
   "cell_type": "code",
   "execution_count": 8,
   "metadata": {
    "collapsed": true
   },
   "outputs": [],
   "source": [
    "# create new folders to move data into\n",
    "os.mkdir(data_dir + 'training')\n",
    "for name in unique_classes:\n",
    "    os.mkdir(data_dir + 'training/' + name)"
   ]
  },
  {
   "cell_type": "code",
   "execution_count": 9,
   "metadata": {},
   "outputs": [
    {
     "name": "stderr",
     "output_type": "stream",
     "text": [
      "100%|██████████| 200/200 [00:03<00:00, 54.65it/s]\n"
     ]
    }
   ],
   "source": [
    "# loop over all classes\n",
    "for name in tqdm(unique_classes):\n",
    "    \n",
    "    # choose images from a specific class\n",
    "    class_images = os.listdir(data_dir + 'train/' + name + '/images')\n",
    "    \n",
    "    # copy images to a new folder\n",
    "    for img in class_images:\n",
    "        shutil.copyfile(\n",
    "            data_dir + 'train/' + name + '/images/' + img,\n",
    "            data_dir + 'training/' + name + '/' + img\n",
    "        )"
   ]
  }
 ],
 "metadata": {
  "kernelspec": {
   "display_name": "Python 3",
   "language": "python",
   "name": "python3"
  },
  "language_info": {
   "codemirror_mode": {
    "name": "ipython",
    "version": 3
   },
   "file_extension": ".py",
   "mimetype": "text/x-python",
   "name": "python",
   "nbconvert_exporter": "python",
   "pygments_lexer": "ipython3",
   "version": "3.5.2"
  }
 },
 "nbformat": 4,
 "nbformat_minor": 2
}
