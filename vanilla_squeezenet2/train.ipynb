{
 "cells": [
  {
   "cell_type": "code",
   "execution_count": 1,
   "metadata": {
    "collapsed": true
   },
   "outputs": [],
   "source": [
    "%load_ext autoreload\n",
    "%autoreload 2"
   ]
  },
  {
   "cell_type": "code",
   "execution_count": 2,
   "metadata": {},
   "outputs": [
    {
     "data": {
      "text/plain": [
       "True"
      ]
     },
     "execution_count": 2,
     "metadata": {},
     "output_type": "execute_result"
    }
   ],
   "source": [
    "import numpy as np\n",
    "from math import ceil\n",
    "import torch\n",
    "from torch.utils.data import DataLoader\n",
    "\n",
    "import matplotlib.pyplot as plt\n",
    "%matplotlib inline\n",
    "\n",
    "import sys\n",
    "sys.path.append('../utils/')\n",
    "from data_utils import get_folders\n",
    "from train_utils import train\n",
    "from diagnostic_tools import count_params\n",
    "    \n",
    "torch.cuda.is_available()"
   ]
  },
  {
   "cell_type": "code",
   "execution_count": 3,
   "metadata": {
    "collapsed": true
   },
   "outputs": [],
   "source": [
    "torch.backends.cudnn.benchmark = True"
   ]
  },
  {
   "cell_type": "markdown",
   "metadata": {},
   "source": [
    "# Create data iterators"
   ]
  },
  {
   "cell_type": "code",
   "execution_count": 4,
   "metadata": {
    "collapsed": true
   },
   "outputs": [],
   "source": [
    "batch_size = 128"
   ]
  },
  {
   "cell_type": "code",
   "execution_count": 5,
   "metadata": {},
   "outputs": [
    {
     "data": {
      "text/plain": [
       "100000"
      ]
     },
     "execution_count": 5,
     "metadata": {},
     "output_type": "execute_result"
    }
   ],
   "source": [
    "train_folder, val_folder = get_folders()\n",
    "\n",
    "train_iterator = DataLoader(\n",
    "    train_folder, batch_size=batch_size, num_workers=4,\n",
    "    shuffle=True, pin_memory=True\n",
    ")\n",
    "\n",
    "val_iterator = DataLoader(\n",
    "    val_folder, batch_size=256, num_workers=4,\n",
    "    shuffle=False, pin_memory=True\n",
    ")\n",
    "\n",
    "# number of training samples\n",
    "train_size = len(train_folder.imgs)\n",
    "train_size"
   ]
  },
  {
   "cell_type": "code",
   "execution_count": 6,
   "metadata": {},
   "outputs": [
    {
     "data": {
      "text/plain": [
       "10000"
      ]
     },
     "execution_count": 6,
     "metadata": {},
     "output_type": "execute_result"
    }
   ],
   "source": [
    "# number of validation samples\n",
    "val_size = len(val_folder.imgs)\n",
    "val_size"
   ]
  },
  {
   "cell_type": "markdown",
   "metadata": {},
   "source": [
    "# Model"
   ]
  },
  {
   "cell_type": "code",
   "execution_count": 7,
   "metadata": {
    "collapsed": true
   },
   "outputs": [],
   "source": [
    "from get_squeezenet import get_model"
   ]
  },
  {
   "cell_type": "code",
   "execution_count": 8,
   "metadata": {
    "scrolled": true
   },
   "outputs": [],
   "source": [
    "model, criterion, optimizer = get_model()"
   ]
  },
  {
   "cell_type": "code",
   "execution_count": 9,
   "metadata": {},
   "outputs": [
    {
     "data": {
      "text/plain": [
       "828066"
      ]
     },
     "execution_count": 9,
     "metadata": {},
     "output_type": "execute_result"
    }
   ],
   "source": [
    "# number of params in the model\n",
    "count_params(model)"
   ]
  },
  {
   "cell_type": "markdown",
   "metadata": {},
   "source": [
    "# Train"
   ]
  },
  {
   "cell_type": "code",
   "execution_count": 10,
   "metadata": {},
   "outputs": [
    {
     "data": {
      "text/plain": [
       "782"
      ]
     },
     "execution_count": 10,
     "metadata": {},
     "output_type": "execute_result"
    }
   ],
   "source": [
    "from torch.optim.lr_scheduler import ReduceLROnPlateau\n",
    "\n",
    "n_epochs = 200\n",
    "n_batches = ceil(train_size/batch_size)\n",
    "\n",
    "lr_scheduler = ReduceLROnPlateau(\n",
    "    optimizer, mode='max', factor=0.1, patience=7, \n",
    "    verbose=True, threshold=0.01, threshold_mode='abs'\n",
    ")\n",
    "\n",
    "# total number of batches in the train set\n",
    "n_batches"
   ]
  },
  {
   "cell_type": "code",
   "execution_count": 11,
   "metadata": {
    "scrolled": false
   },
   "outputs": [
    {
     "name": "stdout",
     "output_type": "stream",
     "text": [
      "0  4.216 3.741  0.114 0.176  0.297 0.407  44.508\n",
      "1  3.477 3.771  0.220 0.198  0.473 0.428  43.298\n",
      "2  3.202 3.107  0.269 0.282  0.535 0.559  43.177\n",
      "3  3.029 3.039  0.298 0.302  0.573 0.569  43.153\n",
      "4  2.905 2.978  0.324 0.308  0.599 0.581  43.216\n",
      "5  2.805 2.813  0.343 0.340  0.620 0.621  43.089\n",
      "6  2.714 2.775  0.360 0.351  0.636 0.626  43.346\n",
      "7  2.642 2.756  0.375 0.354  0.653 0.628  43.559\n",
      "8  2.575 2.636  0.388 0.382  0.664 0.658  43.483\n",
      "9  2.520 2.641  0.398 0.378  0.675 0.654  43.293\n",
      "10  2.459 2.593  0.411 0.388  0.686 0.667  43.707\n",
      "11  2.416 2.655  0.419 0.383  0.694 0.659  43.500\n",
      "12  2.374 2.520  0.429 0.407  0.701 0.681  43.353\n",
      "13  2.331 2.643  0.436 0.395  0.710 0.669  43.549\n",
      "14  2.294 2.566  0.446 0.398  0.716 0.672  43.669\n",
      "15  2.260 2.514  0.450 0.404  0.722 0.679  43.544\n",
      "16  2.227 2.418  0.456 0.427  0.729 0.694  43.554\n",
      "17  2.200 2.523  0.462 0.410  0.733 0.680  43.327\n",
      "18  2.168 2.399  0.469 0.434  0.739 0.706  43.416\n",
      "19  2.149 2.399  0.472 0.432  0.742 0.701  43.629\n",
      "20  2.119 2.448  0.480 0.427  0.747 0.697  43.495\n",
      "21  2.093 2.390  0.486 0.428  0.752 0.701  43.531\n",
      "22  2.068 2.367  0.489 0.440  0.755 0.706  43.596\n",
      "23  2.038 2.405  0.495 0.431  0.761 0.705  43.544\n",
      "24  2.018 2.368  0.500 0.438  0.766 0.709  43.458\n",
      "25  2.000 2.430  0.504 0.429  0.770 0.698  43.396\n",
      "26  1.977 2.362  0.510 0.447  0.771 0.723  43.495\n",
      "27  1.959 2.316  0.514 0.449  0.776 0.714  43.428\n",
      "28  1.940 2.399  0.516 0.438  0.778 0.707  42.990\n",
      "29  1.918 2.395  0.519 0.442  0.783 0.706  43.277\n",
      "30  1.899 2.284  0.524 0.462  0.786 0.722  43.225\n",
      "31  1.886 2.371  0.527 0.434  0.789 0.709  43.501\n",
      "32  1.868 2.305  0.532 0.455  0.791 0.716  43.386\n",
      "33  1.856 2.303  0.534 0.453  0.792 0.720  43.499\n",
      "34  1.842 2.325  0.536 0.452  0.795 0.712  43.417\n",
      "35  1.825 2.287  0.539 0.461  0.798 0.721  43.296\n",
      "36  1.810 2.320  0.543 0.457  0.801 0.715  43.736\n",
      "37  1.799 2.310  0.545 0.452  0.801 0.715  43.019\n",
      "38  1.783 2.322  0.549 0.459  0.805 0.728  43.560\n",
      "Epoch    38: reducing learning rate of group 0 to 4.0000e-03.\n",
      "Epoch    38: reducing learning rate of group 1 to 4.0000e-03.\n",
      "Epoch    38: reducing learning rate of group 2 to 4.0000e-03.\n",
      "Epoch    38: reducing learning rate of group 3 to 4.0000e-03.\n",
      "Epoch    38: reducing learning rate of group 4 to 4.0000e-03.\n",
      "39  1.496 2.017  0.615 0.521  0.848 0.768  43.679\n",
      "40  1.415 2.006  0.632 0.522  0.860 0.773  43.430\n",
      "41  1.376 2.017  0.643 0.524  0.866 0.770  43.363\n",
      "42  1.355 2.026  0.646 0.527  0.869 0.769  43.789\n",
      "43  1.334 2.016  0.652 0.522  0.873 0.769  43.351\n",
      "44  1.319 2.009  0.656 0.526  0.875 0.776  43.712\n",
      "45  1.302 2.036  0.659 0.525  0.876 0.769  43.441\n",
      "46  1.293 2.031  0.660 0.525  0.878 0.769  43.648\n",
      "47  1.277 2.043  0.663 0.521  0.882 0.769  43.411\n",
      "Epoch    47: reducing learning rate of group 0 to 4.0000e-04.\n",
      "Epoch    47: reducing learning rate of group 1 to 4.0000e-04.\n",
      "Epoch    47: reducing learning rate of group 2 to 4.0000e-04.\n",
      "Epoch    47: reducing learning rate of group 3 to 4.0000e-04.\n",
      "Epoch    47: reducing learning rate of group 4 to 4.0000e-04.\n",
      "48  1.236 2.026  0.674 0.527  0.886 0.770  43.564\n",
      "49  1.226 2.034  0.676 0.526  0.888 0.771  43.342\n",
      "50  1.224 2.035  0.677 0.529  0.887 0.771  43.604\n",
      "51  1.222 2.035  0.679 0.527  0.888 0.770  43.346\n",
      "52  1.213 2.044  0.679 0.527  0.889 0.770  43.538\n",
      "53  1.219 2.043  0.679 0.526  0.888 0.769  43.032\n",
      "54  1.216 2.042  0.679 0.527  0.890 0.771  43.407\n",
      "55  1.216 2.042  0.677 0.525  0.889 0.770  43.488\n",
      "Epoch    55: reducing learning rate of group 0 to 4.0000e-05.\n",
      "Epoch    55: reducing learning rate of group 1 to 4.0000e-05.\n",
      "Epoch    55: reducing learning rate of group 2 to 4.0000e-05.\n",
      "Epoch    55: reducing learning rate of group 3 to 4.0000e-05.\n",
      "Epoch    55: reducing learning rate of group 4 to 4.0000e-05.\n",
      "56  1.206 2.049  0.681 0.525  0.890 0.770  43.414\n",
      "early stopping!\n",
      "CPU times: user 31min 9s, sys: 6min 26s, total: 37min 36s\n",
      "Wall time: 41min 16s\n"
     ]
    }
   ],
   "source": [
    "%%time\n",
    "all_losses = train(\n",
    "    model, criterion, optimizer,\n",
    "    train_iterator, n_epochs, steps_per_epoch=n_batches,\n",
    "    val_iterator=val_iterator, n_validation_batches=40,\n",
    "    patience=14, threshold=0.01, # early stopping\n",
    "    lr_scheduler=lr_scheduler\n",
    ")\n",
    "# epoch logloss  accuracy    top5_accuracy time  (first value: train, second value: val)"
   ]
  },
  {
   "cell_type": "markdown",
   "metadata": {},
   "source": [
    "# Loss/epoch plots"
   ]
  },
  {
   "cell_type": "code",
   "execution_count": 12,
   "metadata": {},
   "outputs": [
    {
     "data": {
      "image/png": "[encoded data removed]",
      "text/plain": [
       "<matplotlib.figure.Figure at 0x7f4a4d2f99b0>"
      ]
     },
     "metadata": {},
     "output_type": "display_data"
    }
   ],
   "source": [
    "epochs = [x[0] for x in all_losses]\n",
    "plt.plot(epochs, [x[1] for x in all_losses], label='train');\n",
    "plt.plot(epochs, [x[2] for x in all_losses], label='val');\n",
    "plt.legend();\n",
    "plt.xlabel('epoch');\n",
    "plt.ylabel('loss');"
   ]
  },
  {
   "cell_type": "code",
   "execution_count": 13,
   "metadata": {},
   "outputs": [
    {
     "data": {
      "image/png": "[encoded data removed]",
      "text/plain": [
       "<matplotlib.figure.Figure at 0x7f4aa1b48588>"
      ]
     },
     "metadata": {},
     "output_type": "display_data"
    }
   ],
   "source": [
    "plt.plot(epochs, [x[3] for x in all_losses], label='train');\n",
    "plt.plot(epochs, [x[4] for x in all_losses], label='val');\n",
    "plt.legend();\n",
    "plt.xlabel('epoch');\n",
    "plt.ylabel('accuracy');"
   ]
  },
  {
   "cell_type": "code",
   "execution_count": 14,
   "metadata": {},
   "outputs": [
    {
     "data": {
      "image/png": "[encoded data removed]",
      "text/plain": [
       "<matplotlib.figure.Figure at 0x7f4a4c1a0860>"
      ]
     },
     "metadata": {},
     "output_type": "display_data"
    }
   ],
   "source": [
    "plt.plot(epochs, [x[5] for x in all_losses], label='train');\n",
    "plt.plot(epochs, [x[6] for x in all_losses], label='val');\n",
    "plt.legend();\n",
    "plt.xlabel('epoch');\n",
    "plt.ylabel('top5_accuracy');"
   ]
  },
  {
   "cell_type": "markdown",
   "metadata": {},
   "source": [
    "# Save"
   ]
  },
  {
   "cell_type": "code",
   "execution_count": 15,
   "metadata": {
    "collapsed": true
   },
   "outputs": [],
   "source": [
    "model.cpu();\n",
    "torch.save(model.state_dict(), 'model.pytorch_state')"
   ]
  }
 ],
 "metadata": {
  "kernelspec": {
   "display_name": "Python 3",
   "language": "python",
   "name": "python3"
  },
  "language_info": {
   "codemirror_mode": {
    "name": "ipython",
    "version": 3
   },
   "file_extension": ".py",
   "mimetype": "text/x-python",
   "name": "python",
   "nbconvert_exporter": "python",
   "pygments_lexer": "ipython3",
   "version": "3.5.2"
  }
 },
 "nbformat": 4,
 "nbformat_minor": 2
}
