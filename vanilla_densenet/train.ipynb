{
 "cells": [
  {
   "cell_type": "code",
   "execution_count": 1,
   "metadata": {
    "collapsed": true
   },
   "outputs": [],
   "source": [
    "%load_ext autoreload\n",
    "%autoreload 2"
   ]
  },
  {
   "cell_type": "code",
   "execution_count": 2,
   "metadata": {},
   "outputs": [
    {
     "data": {
      "text/plain": [
       "True"
      ]
     },
     "execution_count": 2,
     "metadata": {},
     "output_type": "execute_result"
    }
   ],
   "source": [
    "import numpy as np\n",
    "from math import ceil\n",
    "import torch\n",
    "from torch.utils.data import DataLoader\n",
    "\n",
    "import matplotlib.pyplot as plt\n",
    "%matplotlib inline\n",
    "\n",
    "import sys\n",
    "sys.path.append('../utils/')\n",
    "from data_utils import get_folders\n",
    "from train_utils import train\n",
    "from diagnostic_tools import count_params\n",
    "    \n",
    "torch.cuda.is_available()"
   ]
  },
  {
   "cell_type": "code",
   "execution_count": 3,
   "metadata": {
    "collapsed": true
   },
   "outputs": [],
   "source": [
    "torch.backends.cudnn.benchmark = True"
   ]
  },
  {
   "cell_type": "markdown",
   "metadata": {},
   "source": [
    "# Create data iterators"
   ]
  },
  {
   "cell_type": "code",
   "execution_count": 4,
   "metadata": {
    "collapsed": true
   },
   "outputs": [],
   "source": [
    "batch_size = 128"
   ]
  },
  {
   "cell_type": "code",
   "execution_count": 5,
   "metadata": {},
   "outputs": [
    {
     "data": {
      "text/plain": [
       "100000"
      ]
     },
     "execution_count": 5,
     "metadata": {},
     "output_type": "execute_result"
    }
   ],
   "source": [
    "train_folder, val_folder = get_folders()\n",
    "\n",
    "train_iterator = DataLoader(\n",
    "    train_folder, batch_size=batch_size, num_workers=4,\n",
    "    shuffle=True, pin_memory=True\n",
    ")\n",
    "\n",
    "val_iterator = DataLoader(\n",
    "    val_folder, batch_size=256, num_workers=4,\n",
    "    shuffle=False, pin_memory=True\n",
    ")\n",
    "\n",
    "# number of training samples\n",
    "train_size = len(train_folder.imgs)\n",
    "train_size"
   ]
  },
  {
   "cell_type": "code",
   "execution_count": 6,
   "metadata": {},
   "outputs": [
    {
     "data": {
      "text/plain": [
       "10000"
      ]
     },
     "execution_count": 6,
     "metadata": {},
     "output_type": "execute_result"
    }
   ],
   "source": [
    "# number of validation samples\n",
    "val_size = len(val_folder.imgs)\n",
    "val_size"
   ]
  },
  {
   "cell_type": "markdown",
   "metadata": {},
   "source": [
    "# Model"
   ]
  },
  {
   "cell_type": "code",
   "execution_count": 7,
   "metadata": {
    "collapsed": true
   },
   "outputs": [],
   "source": [
    "from get_densenet import get_model"
   ]
  },
  {
   "cell_type": "code",
   "execution_count": 8,
   "metadata": {
    "collapsed": true,
    "scrolled": true
   },
   "outputs": [],
   "source": [
    "model, criterion, optimizer = get_model()"
   ]
  },
  {
   "cell_type": "code",
   "execution_count": 9,
   "metadata": {},
   "outputs": [
    {
     "data": {
      "text/plain": [
       "1106624"
      ]
     },
     "execution_count": 9,
     "metadata": {},
     "output_type": "execute_result"
    }
   ],
   "source": [
    "# number of params in the model\n",
    "count_params(model)"
   ]
  },
  {
   "cell_type": "markdown",
   "metadata": {},
   "source": [
    "# Train"
   ]
  },
  {
   "cell_type": "code",
   "execution_count": 10,
   "metadata": {},
   "outputs": [
    {
     "data": {
      "text/plain": [
       "782"
      ]
     },
     "execution_count": 10,
     "metadata": {},
     "output_type": "execute_result"
    }
   ],
   "source": [
    "from torch.optim.lr_scheduler import ReduceLROnPlateau\n",
    "\n",
    "n_epochs = 200\n",
    "n_batches = ceil(train_size/batch_size)\n",
    "\n",
    "lr_scheduler = ReduceLROnPlateau(\n",
    "    optimizer, mode='max', factor=0.1, patience=7, \n",
    "    verbose=True, threshold=0.01, threshold_mode='abs'\n",
    ")\n",
    "\n",
    "# total number of batches in the train set\n",
    "n_batches"
   ]
  },
  {
   "cell_type": "code",
   "execution_count": 11,
   "metadata": {
    "scrolled": false
   },
   "outputs": [
    {
     "name": "stdout",
     "output_type": "stream",
     "text": [
      "0  4.615 4.320  0.062 0.092  0.195 0.279  108.123\n",
      "1  3.966 3.748  0.138 0.164  0.351 0.412  106.027\n",
      "2  3.628 3.571  0.189 0.215  0.436 0.459  105.984\n",
      "3  3.395 3.178  0.227 0.269  0.490 0.548  106.061\n",
      "4  3.225 3.167  0.257 0.275  0.530 0.552  106.187\n",
      "5  3.087 3.079  0.285 0.299  0.560 0.578  106.043\n",
      "6  2.976 2.954  0.304 0.316  0.583 0.597  106.170\n",
      "7  2.888 2.861  0.321 0.338  0.604 0.619  106.151\n",
      "8  2.804 2.712  0.338 0.361  0.620 0.642  105.997\n",
      "9  2.740 2.672  0.352 0.366  0.633 0.650  106.086\n",
      "10  2.680 2.596  0.363 0.393  0.646 0.668  106.132\n",
      "11  2.632 2.649  0.373 0.376  0.655 0.658  106.053\n",
      "12  2.588 2.537  0.383 0.393  0.663 0.677  106.023\n",
      "13  2.551 2.590  0.391 0.390  0.672 0.672  106.079\n",
      "14  2.514 2.485  0.397 0.410  0.679 0.687  105.862\n",
      "15  2.479 2.476  0.403 0.416  0.684 0.689  105.933\n",
      "16  2.454 2.561  0.408 0.408  0.689 0.690  106.118\n",
      "17  2.433 2.471  0.413 0.410  0.693 0.689  106.163\n",
      "18  2.399 2.499  0.421 0.424  0.700 0.693  106.053\n",
      "19  2.375 2.379  0.423 0.445  0.703 0.716  106.038\n",
      "20  2.357 2.415  0.427 0.433  0.706 0.708  106.028\n",
      "21  2.340 2.462  0.431 0.428  0.710 0.710  106.015\n",
      "22  2.317 2.404  0.438 0.448  0.714 0.719  105.887\n",
      "23  2.305 2.433  0.439 0.429  0.716 0.704  106.091\n",
      "24  2.287 2.482  0.442 0.430  0.719 0.705  106.000\n",
      "25  2.276 2.353  0.444 0.452  0.721 0.724  106.021\n",
      "26  2.260 2.432  0.448 0.432  0.724 0.708  106.013\n",
      "27  2.244 2.370  0.451 0.443  0.728 0.711  105.997\n",
      "Epoch    27: reducing learning rate of group 0 to 1.0000e-02.\n",
      "Epoch    27: reducing learning rate of group 1 to 1.0000e-02.\n",
      "Epoch    27: reducing learning rate of group 2 to 1.0000e-02.\n",
      "Epoch    27: reducing learning rate of group 3 to 1.0000e-02.\n",
      "28  1.928 2.004  0.520 0.520  0.782 0.771  106.008\n",
      "29  1.839 1.985  0.542 0.528  0.794 0.778  106.004\n",
      "30  1.798 1.958  0.548 0.533  0.801 0.783  105.980\n",
      "31  1.782 1.965  0.552 0.534  0.804 0.782  105.950\n",
      "32  1.755 1.952  0.557 0.538  0.808 0.785  106.040\n",
      "33  1.736 1.970  0.562 0.534  0.809 0.784  105.930\n",
      "34  1.728 1.986  0.564 0.530  0.812 0.779  106.037\n",
      "35  1.712 1.976  0.567 0.533  0.814 0.782  105.977\n",
      "36  1.700 1.993  0.571 0.538  0.816 0.785  105.987\n",
      "37  1.688 1.980  0.571 0.536  0.819 0.784  105.930\n",
      "38  1.679 1.989  0.574 0.538  0.820 0.785  106.042\n",
      "Epoch    38: reducing learning rate of group 0 to 1.0000e-03.\n",
      "Epoch    38: reducing learning rate of group 1 to 1.0000e-03.\n",
      "Epoch    38: reducing learning rate of group 2 to 1.0000e-03.\n",
      "Epoch    38: reducing learning rate of group 3 to 1.0000e-03.\n",
      "39  1.613 1.956  0.587 0.542  0.830 0.786  106.000\n",
      "40  1.602 1.950  0.590 0.544  0.832 0.789  106.126\n",
      "41  1.591 1.956  0.593 0.543  0.833 0.788  105.929\n",
      "42  1.592 1.946  0.593 0.543  0.833 0.787  106.080\n",
      "43  1.590 1.944  0.593 0.544  0.833 0.788  106.011\n",
      "44  1.583 1.942  0.595 0.545  0.835 0.790  106.035\n",
      "45  1.582 1.946  0.594 0.547  0.834 0.791  106.107\n",
      "46  1.580 1.954  0.594 0.543  0.835 0.788  105.861\n",
      "early stopping!\n",
      "CPU times: user 1h 9min 12s, sys: 13min 30s, total: 1h 22min 43s\n",
      "Wall time: 1h 23min 5s\n"
     ]
    }
   ],
   "source": [
    "%%time\n",
    "all_losses = train(\n",
    "    model, criterion, optimizer,\n",
    "    train_iterator, n_epochs, steps_per_epoch=n_batches,\n",
    "    val_iterator=val_iterator, n_validation_batches=40,\n",
    "    patience=14, threshold=0.01, # early stopping\n",
    "    lr_scheduler=lr_scheduler\n",
    ")\n",
    "# epoch logloss  accuracy    top5_accuracy time  (first value: train, second value: val)"
   ]
  },
  {
   "cell_type": "markdown",
   "metadata": {},
   "source": [
    "# Loss/epoch plots"
   ]
  },
  {
   "cell_type": "code",
   "execution_count": 12,
   "metadata": {},
   "outputs": [
    {
     "data": {
      "image/png": "[encoded data removed]",
      "text/plain": [
       "<matplotlib.figure.Figure at 0x7f9ff5488978>"
      ]
     },
     "metadata": {},
     "output_type": "display_data"
    }
   ],
   "source": [
    "epochs = [x[0] for x in all_losses]\n",
    "plt.plot(epochs, [x[1] for x in all_losses], label='train');\n",
    "plt.plot(epochs, [x[2] for x in all_losses], label='val');\n",
    "plt.legend();\n",
    "plt.xlabel('epoch');\n",
    "plt.ylabel('loss');"
   ]
  },
  {
   "cell_type": "code",
   "execution_count": 13,
   "metadata": {},
   "outputs": [
    {
     "data": {
      "image/png": "[encoded data removed]",
      "text/plain": [
       "<matplotlib.figure.Figure at 0x7f9ff5cb6a90>"
      ]
     },
     "metadata": {},
     "output_type": "display_data"
    }
   ],
   "source": [
    "plt.plot(epochs, [x[3] for x in all_losses], label='train');\n",
    "plt.plot(epochs, [x[4] for x in all_losses], label='val');\n",
    "plt.legend();\n",
    "plt.xlabel('epoch');\n",
    "plt.ylabel('accuracy');"
   ]
  },
  {
   "cell_type": "code",
   "execution_count": 14,
   "metadata": {},
   "outputs": [
    {
     "data": {
      "image/png": "[encoded data removed]",
      "text/plain": [
       "<matplotlib.figure.Figure at 0x7f9ff5ba0278>"
      ]
     },
     "metadata": {},
     "output_type": "display_data"
    }
   ],
   "source": [
    "plt.plot(epochs, [x[5] for x in all_losses], label='train');\n",
    "plt.plot(epochs, [x[6] for x in all_losses], label='val');\n",
    "plt.legend();\n",
    "plt.xlabel('epoch');\n",
    "plt.ylabel('top5_accuracy');"
   ]
  },
  {
   "cell_type": "markdown",
   "metadata": {},
   "source": [
    "# Save"
   ]
  },
  {
   "cell_type": "code",
   "execution_count": 15,
   "metadata": {
    "collapsed": true
   },
   "outputs": [],
   "source": [
    "model.cpu();\n",
    "torch.save(model.state_dict(), 'model.pytorch_state')"
   ]
  }
 ],
 "metadata": {
  "kernelspec": {
   "display_name": "Python 3",
   "language": "python",
   "name": "python3"
  },
  "language_info": {
   "codemirror_mode": {
    "name": "ipython",
    "version": 3
   },
   "file_extension": ".py",
   "mimetype": "text/x-python",
   "name": "python",
   "nbconvert_exporter": "python",
   "pygments_lexer": "ipython3",
   "version": "3.5.2"
  }
 },
 "nbformat": 4,
 "nbformat_minor": 2
}
