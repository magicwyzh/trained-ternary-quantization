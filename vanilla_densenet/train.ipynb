{
 "cells": [
  {
   "cell_type": "code",
   "execution_count": 1,
   "metadata": {
    "collapsed": true
   },
   "outputs": [],
   "source": [
    "%load_ext autoreload\n",
    "%autoreload 2"
   ]
  },
  {
   "cell_type": "code",
   "execution_count": 2,
   "metadata": {},
   "outputs": [
    {
     "data": {
      "text/plain": [
       "True"
      ]
     },
     "execution_count": 2,
     "metadata": {},
     "output_type": "execute_result"
    }
   ],
   "source": [
    "import numpy as np\n",
    "from math import ceil\n",
    "import torch\n",
    "from torch.utils.data import DataLoader\n",
    "\n",
    "import matplotlib.pyplot as plt\n",
    "%matplotlib inline\n",
    "\n",
    "import sys\n",
    "sys.path.append('../utils/')\n",
    "from data_utils import get_folders\n",
    "from train_utils import train\n",
    "from diagnostic_tools import count_params\n",
    "    \n",
    "torch.cuda.is_available()"
   ]
  },
  {
   "cell_type": "code",
   "execution_count": 3,
   "metadata": {
    "collapsed": true
   },
   "outputs": [],
   "source": [
    "torch.backends.cudnn.benchmark = True"
   ]
  },
  {
   "cell_type": "markdown",
   "metadata": {},
   "source": [
    "# Create data iterators"
   ]
  },
  {
   "cell_type": "code",
   "execution_count": 4,
   "metadata": {
    "collapsed": true
   },
   "outputs": [],
   "source": [
    "batch_size = 128"
   ]
  },
  {
   "cell_type": "code",
   "execution_count": 5,
   "metadata": {},
   "outputs": [
    {
     "data": {
      "text/plain": [
       "100000"
      ]
     },
     "execution_count": 5,
     "metadata": {},
     "output_type": "execute_result"
    }
   ],
   "source": [
    "train_folder, val_folder = get_folders()\n",
    "\n",
    "train_iterator = DataLoader(\n",
    "    train_folder, batch_size=batch_size, num_workers=4,\n",
    "    shuffle=True, pin_memory=True\n",
    ")\n",
    "\n",
    "val_iterator = DataLoader(\n",
    "    val_folder, batch_size=256, num_workers=4,\n",
    "    shuffle=False, pin_memory=True\n",
    ")\n",
    "\n",
    "# number of training samples\n",
    "train_size = len(train_folder.imgs)\n",
    "train_size"
   ]
  },
  {
   "cell_type": "code",
   "execution_count": 6,
   "metadata": {},
   "outputs": [
    {
     "data": {
      "text/plain": [
       "10000"
      ]
     },
     "execution_count": 6,
     "metadata": {},
     "output_type": "execute_result"
    }
   ],
   "source": [
    "# number of validation samples\n",
    "val_size = len(val_folder.imgs)\n",
    "val_size"
   ]
  },
  {
   "cell_type": "markdown",
   "metadata": {},
   "source": [
    "# Model"
   ]
  },
  {
   "cell_type": "code",
   "execution_count": 7,
   "metadata": {
    "collapsed": true
   },
   "outputs": [],
   "source": [
    "from get_densenet import get_model"
   ]
  },
  {
   "cell_type": "code",
   "execution_count": 8,
   "metadata": {
    "collapsed": true,
    "scrolled": true
   },
   "outputs": [],
   "source": [
    "model, criterion, optimizer = get_model()"
   ]
  },
  {
   "cell_type": "code",
   "execution_count": 9,
   "metadata": {},
   "outputs": [
    {
     "data": {
      "text/plain": [
       "1000668"
      ]
     },
     "execution_count": 9,
     "metadata": {},
     "output_type": "execute_result"
    }
   ],
   "source": [
    "# number of params in the model\n",
    "count_params(model)"
   ]
  },
  {
   "cell_type": "markdown",
   "metadata": {},
   "source": [
    "# Train"
   ]
  },
  {
   "cell_type": "code",
   "execution_count": 10,
   "metadata": {},
   "outputs": [
    {
     "data": {
      "text/plain": [
       "782"
      ]
     },
     "execution_count": 10,
     "metadata": {},
     "output_type": "execute_result"
    }
   ],
   "source": [
    "from torch.optim.lr_scheduler import ReduceLROnPlateau\n",
    "\n",
    "n_epochs = 40\n",
    "n_batches = ceil(train_size/batch_size)\n",
    "\n",
    "lr_scheduler = ReduceLROnPlateau(\n",
    "    optimizer, mode='max', factor=0.1, patience=6, \n",
    "    verbose=True, threshold=0.01, threshold_mode='abs'\n",
    ")\n",
    "\n",
    "n_batches"
   ]
  },
  {
   "cell_type": "code",
   "execution_count": 11,
   "metadata": {
    "scrolled": false
   },
   "outputs": [
    {
     "name": "stdout",
     "output_type": "stream",
     "text": [
      "1.00  4.569 4.293  0.067 0.100  0.207 0.285  30.612\n",
      "2.00  3.922 3.788  0.141 0.162  0.363 0.398  29.250\n",
      "3.00  3.719 3.860  0.171 0.159  0.415 0.386  29.331\n",
      "4.00  3.606 3.979  0.191 0.155  0.442 0.370  29.324\n",
      "5.00  3.532 3.698  0.204 0.187  0.459 0.441  29.204\n",
      "6.00  3.477 3.637  0.212 0.196  0.474 0.439  29.391\n",
      "7.00  3.430 3.558  0.221 0.199  0.483 0.464  29.300\n",
      "8.00  3.395 3.621  0.227 0.199  0.492 0.450  29.295\n",
      "9.00  3.377 3.474  0.231 0.209  0.498 0.475  29.249\n",
      "10.00  3.348 3.345  0.235 0.227  0.504 0.505  29.229\n",
      "11.00  3.336 3.727  0.237 0.191  0.505 0.437  29.358\n",
      "12.00  3.325 3.432  0.239 0.225  0.509 0.488  29.294\n",
      "13.00  3.319 3.506  0.242 0.221  0.511 0.477  29.397\n",
      "14.00  3.301 3.563  0.244 0.220  0.514 0.480  29.236\n",
      "15.00  3.293 3.265  0.245 0.246  0.519 0.523  29.358\n",
      "16.00  3.286 3.418  0.249 0.225  0.520 0.486  29.206\n",
      "17.00  3.277 3.491  0.250 0.221  0.521 0.486  29.231\n",
      "18.00  3.269 3.432  0.250 0.231  0.522 0.487  29.272\n",
      "19.00  3.270 3.627  0.250 0.200  0.523 0.444  29.259\n",
      "20.00  3.261 3.366  0.251 0.238  0.525 0.503  29.240\n",
      "21.00  3.266 3.449  0.252 0.219  0.524 0.478  29.371\n",
      "22.00  3.254 3.364  0.252 0.247  0.526 0.506  29.254\n",
      "Epoch    21: reducing learning rate of group 0 to 1.0000e-02.\n",
      "Epoch    21: reducing learning rate of group 1 to 1.0000e-02.\n",
      "Epoch    21: reducing learning rate of group 2 to 1.0000e-02.\n",
      "Epoch    21: reducing learning rate of group 3 to 1.0000e-02.\n",
      "23.00  2.771 2.601  0.344 0.380  0.628 0.659  29.212\n",
      "24.00  2.600 2.487  0.377 0.407  0.660 0.677  29.215\n",
      "25.00  2.535 2.486  0.391 0.406  0.674 0.681  29.250\n",
      "26.00  2.488 2.567  0.399 0.392  0.684 0.665  29.342\n",
      "27.00  2.465 2.516  0.403 0.397  0.687 0.675  29.315\n",
      "28.00  2.438 2.556  0.408 0.396  0.691 0.667  29.292\n",
      "29.00  2.420 2.501  0.412 0.395  0.695 0.679  29.374\n",
      "30.00  2.413 2.551  0.413 0.394  0.698 0.669  29.291\n",
      "31.00  2.393 2.511  0.418 0.401  0.700 0.676  29.262\n",
      "Epoch    30: reducing learning rate of group 0 to 1.0000e-03.\n",
      "Epoch    30: reducing learning rate of group 1 to 1.0000e-03.\n",
      "Epoch    30: reducing learning rate of group 2 to 1.0000e-03.\n",
      "Epoch    30: reducing learning rate of group 3 to 1.0000e-03.\n",
      "32.00  2.190 2.256  0.461 0.452  0.740 0.721  29.256\n",
      "33.00  2.119 2.231  0.477 0.457  0.751 0.726  29.326\n",
      "34.00  2.088 2.238  0.484 0.457  0.757 0.724  29.221\n",
      "35.00  2.072 2.224  0.488 0.460  0.758 0.729  29.346\n",
      "36.00  2.049 2.226  0.492 0.459  0.764 0.729  29.399\n",
      "37.00  2.035 2.196  0.496 0.465  0.766 0.732  29.259\n",
      "38.00  2.018 2.207  0.496 0.465  0.769 0.733  29.809\n",
      "39.00  2.004 2.199  0.501 0.466  0.770 0.729  29.762\n",
      "40.00  1.993 2.198  0.503 0.467  0.773 0.733  29.343\n",
      "CPU times: user 14min 10s, sys: 1min 2s, total: 15min 12s\n",
      "Wall time: 19min 33s\n"
     ]
    }
   ],
   "source": [
    "%%time\n",
    "all_losses, _ = train(\n",
    "    model, criterion, optimizer, \n",
    "    train_iterator, n_epochs, n_batches, \n",
    "    val_iterator, validation_step=782, n_validation_batches=40, \n",
    "    saving_step=None, lr_scheduler=lr_scheduler\n",
    ")\n",
    "# epoch logloss    accuracy     top5_accuracy time  (first value: train, second value: val)"
   ]
  },
  {
   "cell_type": "markdown",
   "metadata": {},
   "source": [
    "# Loss/epoch plots"
   ]
  },
  {
   "cell_type": "code",
   "execution_count": 12,
   "metadata": {},
   "outputs": [
    {
     "data": {
      "image/png": "[encoded data removed]",
      "text/plain": [
       "<matplotlib.figure.Figure at 0x7f2b91271080>"
      ]
     },
     "metadata": {},
     "output_type": "display_data"
    }
   ],
   "source": [
    "epochs = [x[0] for x in all_losses]\n",
    "plt.plot(epochs, [x[1] for x in all_losses], label='train');\n",
    "plt.plot(epochs, [x[2] for x in all_losses], label='val');\n",
    "plt.legend();\n",
    "plt.xlabel('epoch');\n",
    "plt.ylabel('loss');"
   ]
  },
  {
   "cell_type": "code",
   "execution_count": 13,
   "metadata": {},
   "outputs": [
    {
     "data": {
      "image/png": "[encoded data removed]",
      "text/plain": [
       "<matplotlib.figure.Figure at 0x7f2b912719e8>"
      ]
     },
     "metadata": {},
     "output_type": "display_data"
    }
   ],
   "source": [
    "plt.plot(epochs, [x[3] for x in all_losses], label='train');\n",
    "plt.plot(epochs, [x[4] for x in all_losses], label='val');\n",
    "plt.legend();\n",
    "plt.xlabel('epoch');\n",
    "plt.ylabel('accuracy');"
   ]
  },
  {
   "cell_type": "code",
   "execution_count": 14,
   "metadata": {},
   "outputs": [
    {
     "data": {
      "image/png": "[encoded data removed]",
      "text/plain": [
       "<matplotlib.figure.Figure at 0x7f2b91a7e5f8>"
      ]
     },
     "metadata": {},
     "output_type": "display_data"
    }
   ],
   "source": [
    "plt.plot(epochs, [x[5] for x in all_losses], label='train');\n",
    "plt.plot(epochs, [x[6] for x in all_losses], label='val');\n",
    "plt.legend();\n",
    "plt.xlabel('epoch');\n",
    "plt.ylabel('top5_accuracy');"
   ]
  },
  {
   "cell_type": "markdown",
   "metadata": {},
   "source": [
    "# Save"
   ]
  },
  {
   "cell_type": "code",
   "execution_count": 15,
   "metadata": {
    "collapsed": true
   },
   "outputs": [],
   "source": [
    "model.cpu();\n",
    "torch.save(model.state_dict(), 'model.pytorch_state')"
   ]
  }
 ],
 "metadata": {
  "kernelspec": {
   "display_name": "Python 3",
   "language": "python",
   "name": "python3"
  },
  "language_info": {
   "codemirror_mode": {
    "name": "ipython",
    "version": 3
   },
   "file_extension": ".py",
   "mimetype": "text/x-python",
   "name": "python",
   "nbconvert_exporter": "python",
   "pygments_lexer": "ipython3",
   "version": "3.5.2"
  }
 },
 "nbformat": 4,
 "nbformat_minor": 2
}
