{
 "cells": [
  {
   "cell_type": "code",
   "execution_count": 1,
   "metadata": {
    "collapsed": true
   },
   "outputs": [],
   "source": [
    "%load_ext autoreload\n",
    "%autoreload 2"
   ]
  },
  {
   "cell_type": "code",
   "execution_count": 2,
   "metadata": {},
   "outputs": [
    {
     "data": {
      "text/plain": [
       "True"
      ]
     },
     "execution_count": 2,
     "metadata": {},
     "output_type": "execute_result"
    }
   ],
   "source": [
    "from math import ceil\n",
    "import torch\n",
    "from torch.utils.data import DataLoader\n",
    "\n",
    "import matplotlib.pyplot as plt\n",
    "%matplotlib inline\n",
    "\n",
    "import sys\n",
    "sys.path.append('../utils/')\n",
    "from data_utils import get_image_folders\n",
    "from train_utils import train\n",
    "from diagnostic_tools import count_params\n",
    "    \n",
    "torch.cuda.is_available()"
   ]
  },
  {
   "cell_type": "code",
   "execution_count": 3,
   "metadata": {
    "collapsed": true
   },
   "outputs": [],
   "source": [
    "torch.backends.cudnn.benchmark = True"
   ]
  },
  {
   "cell_type": "markdown",
   "metadata": {},
   "source": [
    "# Create data iterators"
   ]
  },
  {
   "cell_type": "code",
   "execution_count": 4,
   "metadata": {
    "collapsed": true
   },
   "outputs": [],
   "source": [
    "batch_size = 128"
   ]
  },
  {
   "cell_type": "code",
   "execution_count": 5,
   "metadata": {},
   "outputs": [
    {
     "data": {
      "text/plain": [
       "100000"
      ]
     },
     "execution_count": 5,
     "metadata": {},
     "output_type": "execute_result"
    }
   ],
   "source": [
    "train_folder, val_folder = get_image_folders()\n",
    "\n",
    "train_iterator = DataLoader(\n",
    "    train_folder, batch_size=batch_size, num_workers=4,\n",
    "    shuffle=True, pin_memory=True\n",
    ")\n",
    "\n",
    "val_iterator = DataLoader(\n",
    "    val_folder, batch_size=256, num_workers=4,\n",
    "    shuffle=False, pin_memory=True\n",
    ")\n",
    "\n",
    "# number of training samples\n",
    "train_size = len(train_folder.imgs)\n",
    "train_size"
   ]
  },
  {
   "cell_type": "code",
   "execution_count": 6,
   "metadata": {},
   "outputs": [
    {
     "data": {
      "text/plain": [
       "10000"
      ]
     },
     "execution_count": 6,
     "metadata": {},
     "output_type": "execute_result"
    }
   ],
   "source": [
    "# number of validation samples\n",
    "val_size = len(val_folder.imgs)\n",
    "val_size"
   ]
  },
  {
   "cell_type": "markdown",
   "metadata": {},
   "source": [
    "# Model"
   ]
  },
  {
   "cell_type": "code",
   "execution_count": 7,
   "metadata": {
    "collapsed": true
   },
   "outputs": [],
   "source": [
    "from get_densenet import get_model"
   ]
  },
  {
   "cell_type": "code",
   "execution_count": 8,
   "metadata": {
    "scrolled": true
   },
   "outputs": [],
   "source": [
    "model, criterion, optimizer = get_model()"
   ]
  },
  {
   "cell_type": "code",
   "execution_count": 9,
   "metadata": {},
   "outputs": [
    {
     "data": {
      "text/plain": [
       "440264"
      ]
     },
     "execution_count": 9,
     "metadata": {},
     "output_type": "execute_result"
    }
   ],
   "source": [
    "# number of params in the model\n",
    "count_params(model)"
   ]
  },
  {
   "cell_type": "markdown",
   "metadata": {},
   "source": [
    "# Train"
   ]
  },
  {
   "cell_type": "code",
   "execution_count": 10,
   "metadata": {},
   "outputs": [
    {
     "data": {
      "text/plain": [
       "782"
      ]
     },
     "execution_count": 10,
     "metadata": {},
     "output_type": "execute_result"
    }
   ],
   "source": [
    "from torch.optim.lr_scheduler import ReduceLROnPlateau\n",
    "\n",
    "n_epochs = 200\n",
    "n_batches = ceil(train_size/batch_size)\n",
    "\n",
    "lr_scheduler = ReduceLROnPlateau(\n",
    "    optimizer, mode='max', factor=0.1, patience=4, \n",
    "    verbose=True, threshold=0.01, threshold_mode='abs'\n",
    ")\n",
    "\n",
    "# total number of batches in the train set\n",
    "n_batches"
   ]
  },
  {
   "cell_type": "code",
   "execution_count": 11,
   "metadata": {
    "scrolled": false
   },
   "outputs": [
    {
     "name": "stdout",
     "output_type": "stream",
     "text": [
      "0  4.623 4.219  0.064 0.113  0.195 0.304  228.915\n",
      "1  4.078 3.956  0.125 0.156  0.328 0.374  226.131\n",
      "2  3.802 3.467  0.165 0.217  0.397 0.480  226.623\n",
      "3  3.614 3.394  0.194 0.228  0.441 0.487  226.667\n",
      "4  3.476 3.223  0.217 0.252  0.473 0.524  226.629\n",
      "5  3.365 3.118  0.238 0.284  0.499 0.557  226.626\n",
      "6  3.280 3.092  0.254 0.290  0.516 0.568  226.645\n",
      "7  3.220 3.040  0.263 0.291  0.533 0.572  226.711\n",
      "8  3.161 3.067  0.274 0.293  0.545 0.566  226.695\n",
      "9  3.111 2.942  0.282 0.317  0.557 0.600  226.587\n",
      "10  3.073 2.883  0.289 0.332  0.564 0.618  226.699\n",
      "11  3.046 2.810  0.294 0.341  0.571 0.629  226.718\n",
      "12  3.016 2.951  0.300 0.321  0.578 0.605  226.733\n",
      "13  2.980 2.919  0.307 0.327  0.585 0.611  226.702\n",
      "14  2.960 2.757  0.310 0.356  0.588 0.637  226.604\n",
      "15  2.937 2.965  0.316 0.323  0.593 0.611  226.718\n",
      "16  2.924 2.780  0.319 0.348  0.595 0.633  226.685\n",
      "17  2.908 2.835  0.321 0.343  0.600 0.623  226.650\n",
      "18  2.889 2.712  0.327 0.369  0.605 0.646  226.662\n",
      "19  2.870 2.662  0.328 0.373  0.608 0.660  226.691\n",
      "20  2.852 2.773  0.333 0.349  0.612 0.634  226.673\n",
      "21  2.847 2.694  0.333 0.373  0.612 0.656  226.466\n",
      "22  2.835 2.647  0.336 0.375  0.613 0.658  226.435\n",
      "23  2.825 2.704  0.339 0.367  0.617 0.651  226.411\n",
      "Epoch    23: reducing learning rate of group 0 to 1.0000e-02.\n",
      "Epoch    23: reducing learning rate of group 1 to 1.0000e-02.\n",
      "Epoch    23: reducing learning rate of group 2 to 1.0000e-02.\n",
      "Epoch    23: reducing learning rate of group 3 to 1.0000e-02.\n",
      "24  2.519 2.276  0.399 0.450  0.675 0.724  226.405\n",
      "25  2.423 2.283  0.419 0.449  0.694 0.727  226.493\n",
      "26  2.392 2.260  0.424 0.460  0.698 0.728  226.522\n",
      "27  2.365 2.241  0.431 0.459  0.703 0.731  226.555\n",
      "28  2.352 2.273  0.430 0.456  0.706 0.726  226.581\n",
      "29  2.333 2.231  0.436 0.467  0.709 0.736  226.494\n",
      "30  2.314 2.220  0.439 0.466  0.711 0.735  226.581\n",
      "31  2.315 2.192  0.439 0.475  0.712 0.742  226.569\n",
      "32  2.298 2.206  0.442 0.468  0.717 0.740  226.583\n",
      "33  2.287 2.188  0.445 0.474  0.717 0.742  226.521\n",
      "34  2.287 2.209  0.446 0.470  0.717 0.740  226.559\n",
      "35  2.274 2.226  0.445 0.468  0.721 0.737  226.567\n",
      "36  2.265 2.201  0.449 0.475  0.721 0.742  226.613\n",
      "Epoch    36: reducing learning rate of group 0 to 1.0000e-03.\n",
      "Epoch    36: reducing learning rate of group 1 to 1.0000e-03.\n",
      "Epoch    36: reducing learning rate of group 2 to 1.0000e-03.\n",
      "Epoch    36: reducing learning rate of group 3 to 1.0000e-03.\n",
      "37  2.189 2.146  0.464 0.485  0.735 0.749  226.720\n",
      "38  2.178 2.140  0.468 0.483  0.737 0.750  226.764\n",
      "39  2.166 2.125  0.469 0.486  0.739 0.752  226.727\n",
      "40  2.169 2.135  0.470 0.487  0.738 0.751  226.720\n",
      "41  2.157 2.138  0.472 0.483  0.740 0.751  226.743\n",
      "42  2.159 2.124  0.471 0.490  0.738 0.754  226.700\n",
      "43  2.156 2.127  0.472 0.486  0.741 0.754  226.759\n",
      "44  2.141 2.117  0.474 0.485  0.744 0.754  226.677\n",
      "Epoch    44: reducing learning rate of group 0 to 1.0000e-04.\n",
      "Epoch    44: reducing learning rate of group 1 to 1.0000e-04.\n",
      "Epoch    44: reducing learning rate of group 2 to 1.0000e-04.\n",
      "Epoch    44: reducing learning rate of group 3 to 1.0000e-04.\n",
      "45  2.138 2.119  0.477 0.487  0.744 0.755  226.656\n",
      "46  2.139 2.110  0.475 0.491  0.744 0.755  226.606\n",
      "47  2.134 2.120  0.475 0.487  0.746 0.754  226.674\n",
      "early stopping!\n",
      "CPU times: user 2h 36min 59s, sys: 25min 25s, total: 3h 2min 25s\n",
      "Wall time: 3h 1min 19s\n"
     ]
    }
   ],
   "source": [
    "%%time\n",
    "all_losses = train(\n",
    "    model, criterion, optimizer,\n",
    "    train_iterator, n_epochs, steps_per_epoch=n_batches,\n",
    "    val_iterator=val_iterator, n_validation_batches=40,\n",
    "    patience=9, threshold=0.01, # early stopping\n",
    "    lr_scheduler=lr_scheduler\n",
    ")\n",
    "# epoch logloss  accuracy    top5_accuracy time  (first value: train, second value: val)"
   ]
  },
  {
   "cell_type": "markdown",
   "metadata": {},
   "source": [
    "# Loss/epoch plots"
   ]
  },
  {
   "cell_type": "code",
   "execution_count": 12,
   "metadata": {},
   "outputs": [
    {
     "data": {
      "image/png": "[encoded data removed]",
      "text/plain": [
       "<matplotlib.figure.Figure at 0x7f1db48877b8>"
      ]
     },
     "metadata": {},
     "output_type": "display_data"
    }
   ],
   "source": [
    "epochs = [x[0] for x in all_losses]\n",
    "plt.plot(epochs, [x[1] for x in all_losses], label='train');\n",
    "plt.plot(epochs, [x[2] for x in all_losses], label='val');\n",
    "plt.legend();\n",
    "plt.xlabel('epoch');\n",
    "plt.ylabel('loss');"
   ]
  },
  {
   "cell_type": "code",
   "execution_count": 13,
   "metadata": {},
   "outputs": [
    {
     "data": {
      "image/png": "[encoded data removed]",
      "text/plain": [
       "<matplotlib.figure.Figure at 0x7f1db58d0b00>"
      ]
     },
     "metadata": {},
     "output_type": "display_data"
    }
   ],
   "source": [
    "plt.plot(epochs, [x[3] for x in all_losses], label='train');\n",
    "plt.plot(epochs, [x[4] for x in all_losses], label='val');\n",
    "plt.legend();\n",
    "plt.xlabel('epoch');\n",
    "plt.ylabel('accuracy');"
   ]
  },
  {
   "cell_type": "code",
   "execution_count": 14,
   "metadata": {},
   "outputs": [
    {
     "data": {
      "image/png": "[encoded data removed]",
      "text/plain": [
       "<matplotlib.figure.Figure at 0x7f1db471a320>"
      ]
     },
     "metadata": {},
     "output_type": "display_data"
    }
   ],
   "source": [
    "plt.plot(epochs, [x[5] for x in all_losses], label='train');\n",
    "plt.plot(epochs, [x[6] for x in all_losses], label='val');\n",
    "plt.legend();\n",
    "plt.xlabel('epoch');\n",
    "plt.ylabel('top5_accuracy');"
   ]
  },
  {
   "cell_type": "markdown",
   "metadata": {},
   "source": [
    "# Save"
   ]
  },
  {
   "cell_type": "code",
   "execution_count": 15,
   "metadata": {
    "collapsed": true
   },
   "outputs": [],
   "source": [
    "model.cpu();\n",
    "torch.save(model.state_dict(), 'model.pytorch_state')"
   ]
  }
 ],
 "metadata": {
  "kernelspec": {
   "display_name": "Python 3",
   "language": "python",
   "name": "python3"
  },
  "language_info": {
   "codemirror_mode": {
    "name": "ipython",
    "version": 3
   },
   "file_extension": ".py",
   "mimetype": "text/x-python",
   "name": "python",
   "nbconvert_exporter": "python",
   "pygments_lexer": "ipython3",
   "version": "3.6.1"
  }
 },
 "nbformat": 4,
 "nbformat_minor": 2
}
