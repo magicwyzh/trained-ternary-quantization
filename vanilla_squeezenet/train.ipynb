{
 "cells": [
  {
   "cell_type": "code",
   "execution_count": 1,
   "metadata": {
    "collapsed": true
   },
   "outputs": [],
   "source": [
    "%load_ext autoreload\n",
    "%autoreload 2"
   ]
  },
  {
   "cell_type": "code",
   "execution_count": 2,
   "metadata": {},
   "outputs": [
    {
     "data": {
      "text/plain": [
       "True"
      ]
     },
     "execution_count": 2,
     "metadata": {},
     "output_type": "execute_result"
    }
   ],
   "source": [
    "import numpy as np\n",
    "from math import ceil\n",
    "import torch\n",
    "from torch.utils.data import DataLoader\n",
    "\n",
    "import matplotlib.pyplot as plt\n",
    "%matplotlib inline\n",
    "\n",
    "import sys\n",
    "sys.path.append('../utils/')\n",
    "from data_utils import get_folders\n",
    "from train_utils import train\n",
    "from diagnostic_tools import count_params\n",
    "    \n",
    "torch.cuda.is_available()"
   ]
  },
  {
   "cell_type": "code",
   "execution_count": 3,
   "metadata": {
    "collapsed": true
   },
   "outputs": [],
   "source": [
    "torch.backends.cudnn.benchmark = True"
   ]
  },
  {
   "cell_type": "markdown",
   "metadata": {},
   "source": [
    "# Create data iterators"
   ]
  },
  {
   "cell_type": "code",
   "execution_count": 4,
   "metadata": {
    "collapsed": true
   },
   "outputs": [],
   "source": [
    "batch_size = 128"
   ]
  },
  {
   "cell_type": "code",
   "execution_count": 5,
   "metadata": {},
   "outputs": [
    {
     "data": {
      "text/plain": [
       "100000"
      ]
     },
     "execution_count": 5,
     "metadata": {},
     "output_type": "execute_result"
    }
   ],
   "source": [
    "train_folder, val_folder = get_folders()\n",
    "\n",
    "train_iterator = DataLoader(\n",
    "    train_folder, batch_size=batch_size, num_workers=4,\n",
    "    shuffle=True, pin_memory=True\n",
    ")\n",
    "\n",
    "val_iterator = DataLoader(\n",
    "    val_folder, batch_size=256, num_workers=4,\n",
    "    shuffle=False, pin_memory=True\n",
    ")\n",
    "\n",
    "# number of training samples\n",
    "train_size = len(train_folder.imgs)\n",
    "train_size"
   ]
  },
  {
   "cell_type": "code",
   "execution_count": 6,
   "metadata": {},
   "outputs": [
    {
     "data": {
      "text/plain": [
       "10000"
      ]
     },
     "execution_count": 6,
     "metadata": {},
     "output_type": "execute_result"
    }
   ],
   "source": [
    "# number of validation samples\n",
    "val_size = len(val_folder.imgs)\n",
    "val_size"
   ]
  },
  {
   "cell_type": "markdown",
   "metadata": {},
   "source": [
    "# Model"
   ]
  },
  {
   "cell_type": "code",
   "execution_count": 7,
   "metadata": {
    "collapsed": true
   },
   "outputs": [],
   "source": [
    "from get_squeezenet import get_model"
   ]
  },
  {
   "cell_type": "code",
   "execution_count": 8,
   "metadata": {
    "scrolled": true
   },
   "outputs": [],
   "source": [
    "model, criterion, optimizer = get_model()"
   ]
  },
  {
   "cell_type": "code",
   "execution_count": 9,
   "metadata": {},
   "outputs": [
    {
     "data": {
      "text/plain": [
       "828040"
      ]
     },
     "execution_count": 9,
     "metadata": {},
     "output_type": "execute_result"
    }
   ],
   "source": [
    "# number of params in the model\n",
    "count_params(model)"
   ]
  },
  {
   "cell_type": "markdown",
   "metadata": {},
   "source": [
    "# Train"
   ]
  },
  {
   "cell_type": "code",
   "execution_count": 10,
   "metadata": {},
   "outputs": [
    {
     "data": {
      "text/plain": [
       "782"
      ]
     },
     "execution_count": 10,
     "metadata": {},
     "output_type": "execute_result"
    }
   ],
   "source": [
    "from torch.optim.lr_scheduler import ReduceLROnPlateau\n",
    "\n",
    "n_epochs = 200\n",
    "n_batches = ceil(train_size/batch_size)\n",
    "\n",
    "lr_scheduler = ReduceLROnPlateau(\n",
    "    optimizer, mode='max', factor=0.1, patience=7, \n",
    "    verbose=True, threshold=0.01, threshold_mode='abs'\n",
    ")\n",
    "\n",
    "# total number of batches in the train set\n",
    "n_batches"
   ]
  },
  {
   "cell_type": "code",
   "execution_count": 11,
   "metadata": {
    "scrolled": false
   },
   "outputs": [
    {
     "name": "stdout",
     "output_type": "stream",
     "text": [
      "0  5.217 5.083  0.023 0.051  0.077 0.147  34.823\n",
      "1  4.920 4.781  0.065 0.085  0.185 0.231  33.609\n",
      "2  4.555 4.503  0.111 0.118  0.279 0.297  33.592\n",
      "3  4.213 4.181  0.153 0.157  0.356 0.366  33.556\n",
      "4  3.940 3.990  0.189 0.177  0.416 0.401  33.604\n",
      "5  3.753 3.812  0.212 0.199  0.455 0.435  33.649\n",
      "6  3.584 3.861  0.234 0.188  0.484 0.437  33.688\n",
      "7  3.450 3.780  0.251 0.200  0.511 0.445  33.680\n",
      "8  3.373 3.625  0.266 0.214  0.528 0.471  33.516\n",
      "9  3.286 3.559  0.280 0.233  0.544 0.488  33.611\n",
      "10  3.219 3.495  0.293 0.246  0.560 0.500  33.704\n",
      "11  3.174 3.315  0.301 0.272  0.568 0.541  33.656\n",
      "12  3.121 3.398  0.310 0.268  0.579 0.515  33.655\n",
      "13  3.077 3.340  0.317 0.270  0.587 0.535  33.642\n",
      "14  3.046 3.377  0.325 0.265  0.593 0.520  33.624\n",
      "15  3.012 3.231  0.331 0.286  0.598 0.557  33.624\n",
      "16  2.998 3.507  0.332 0.240  0.603 0.511  33.702\n",
      "17  2.972 3.132  0.338 0.312  0.607 0.574  33.657\n",
      "18  2.955 3.283  0.343 0.283  0.610 0.557  33.738\n",
      "19  2.938 3.278  0.345 0.289  0.615 0.543  33.608\n",
      "20  2.924 3.146  0.348 0.303  0.618 0.580  33.610\n",
      "21  2.919 3.536  0.348 0.247  0.618 0.495  33.646\n",
      "22  2.895 3.293  0.353 0.294  0.624 0.556  33.684\n",
      "23  2.885 3.097  0.356 0.308  0.626 0.580  33.632\n",
      "24  2.881 3.132  0.356 0.308  0.626 0.572  33.687\n",
      "25  2.865 3.408  0.361 0.269  0.631 0.532  33.687\n",
      "Epoch    25: reducing learning rate of group 0 to 4.0000e-03.\n",
      "Epoch    25: reducing learning rate of group 1 to 4.0000e-03.\n",
      "Epoch    25: reducing learning rate of group 2 to 4.0000e-03.\n",
      "Epoch    25: reducing learning rate of group 3 to 4.0000e-03.\n",
      "26  2.439 2.408  0.454 0.455  0.706 0.709  33.704\n",
      "27  2.312 2.342  0.480 0.468  0.728 0.721  33.612\n",
      "28  2.265 2.330  0.490 0.472  0.735 0.717  33.604\n",
      "29  2.234 2.304  0.495 0.478  0.740 0.726  33.615\n",
      "30  2.208 2.308  0.500 0.477  0.744 0.723  33.705\n",
      "31  2.187 2.307  0.506 0.479  0.748 0.726  33.604\n",
      "32  2.169 2.308  0.508 0.480  0.750 0.721  33.673\n",
      "33  2.154 2.311  0.512 0.477  0.753 0.725  33.613\n",
      "34  2.146 2.343  0.514 0.467  0.754 0.718  33.653\n",
      "35  2.134 2.343  0.516 0.469  0.756 0.721  33.610\n",
      "36  2.125 2.316  0.517 0.478  0.758 0.724  33.618\n",
      "37  2.118 2.337  0.518 0.471  0.760 0.722  33.597\n",
      "38  2.111 2.350  0.521 0.472  0.761 0.716  33.623\n",
      "39  2.107 2.360  0.519 0.469  0.762 0.717  33.642\n",
      "Epoch    39: reducing learning rate of group 0 to 4.0000e-04.\n",
      "Epoch    39: reducing learning rate of group 1 to 4.0000e-04.\n",
      "Epoch    39: reducing learning rate of group 2 to 4.0000e-04.\n",
      "Epoch    39: reducing learning rate of group 3 to 4.0000e-04.\n",
      "40  1.963 2.175  0.555 0.507  0.783 0.745  33.624\n",
      "41  1.922 2.177  0.565 0.506  0.790 0.744  33.659\n",
      "42  1.906 2.168  0.568 0.508  0.792 0.745  33.603\n",
      "43  1.902 2.165  0.570 0.509  0.791 0.745  33.765\n",
      "44  1.889 2.169  0.572 0.507  0.793 0.744  33.605\n",
      "45  1.883 2.167  0.573 0.508  0.795 0.743  33.679\n",
      "46  1.878 2.165  0.575 0.508  0.796 0.744  33.628\n",
      "47  1.871 2.163  0.578 0.508  0.797 0.745  33.594\n",
      "48  1.865 2.165  0.577 0.507  0.798 0.745  33.631\n",
      "Epoch    48: reducing learning rate of group 0 to 4.0000e-05.\n",
      "Epoch    48: reducing learning rate of group 1 to 4.0000e-05.\n",
      "Epoch    48: reducing learning rate of group 2 to 4.0000e-05.\n",
      "Epoch    48: reducing learning rate of group 3 to 4.0000e-05.\n",
      "49  1.847 2.156  0.582 0.511  0.800 0.746  33.593\n",
      "50  1.843 2.154  0.583 0.511  0.801 0.747  33.531\n",
      "51  1.841 2.160  0.584 0.510  0.801 0.746  33.587\n",
      "52  1.839 2.154  0.585 0.511  0.801 0.747  33.646\n",
      "53  1.838 2.152  0.584 0.512  0.802 0.746  33.594\n",
      "54  1.834 2.152  0.587 0.510  0.802 0.746  33.693\n",
      "55  1.839 2.157  0.585 0.512  0.802 0.746  33.620\n",
      "56  1.831 2.155  0.587 0.511  0.802 0.747  33.579\n",
      "Epoch    56: reducing learning rate of group 0 to 4.0000e-06.\n",
      "Epoch    56: reducing learning rate of group 1 to 4.0000e-06.\n",
      "Epoch    56: reducing learning rate of group 2 to 4.0000e-06.\n",
      "Epoch    56: reducing learning rate of group 3 to 4.0000e-06.\n",
      "57  1.833 2.155  0.585 0.510  0.803 0.748  33.579\n",
      "early stopping!\n",
      "CPU times: user 25min 29s, sys: 5min 11s, total: 30min 40s\n",
      "Wall time: 32min 32s\n"
     ]
    }
   ],
   "source": [
    "%%time\n",
    "all_losses = train(\n",
    "    model, criterion, optimizer,\n",
    "    train_iterator, n_epochs, steps_per_epoch=n_batches,\n",
    "    val_iterator=val_iterator, n_validation_batches=40,\n",
    "    patience=14, threshold=0.01, # early stopping\n",
    "    lr_scheduler=lr_scheduler\n",
    ")\n",
    "# epoch logloss  accuracy    top5_accuracy time  (first value: train, second value: val)"
   ]
  },
  {
   "cell_type": "markdown",
   "metadata": {},
   "source": [
    "# Loss/epoch plots"
   ]
  },
  {
   "cell_type": "code",
   "execution_count": 12,
   "metadata": {},
   "outputs": [
    {
     "data": {
      "image/png": "[encoded data removed]",
      "text/plain": [
       "<matplotlib.figure.Figure at 0x7f4193c12278>"
      ]
     },
     "metadata": {},
     "output_type": "display_data"
    }
   ],
   "source": [
    "epochs = [x[0] for x in all_losses]\n",
    "plt.plot(epochs, [x[1] for x in all_losses], label='train');\n",
    "plt.plot(epochs, [x[2] for x in all_losses], label='val');\n",
    "plt.legend();\n",
    "plt.xlabel('epoch');\n",
    "plt.ylabel('loss');"
   ]
  },
  {
   "cell_type": "code",
   "execution_count": 13,
   "metadata": {},
   "outputs": [
    {
     "data": {
      "image/png": "[encoded data removed]",
      "text/plain": [
       "<matplotlib.figure.Figure at 0x7f41e94a28d0>"
      ]
     },
     "metadata": {},
     "output_type": "display_data"
    }
   ],
   "source": [
    "plt.plot(epochs, [x[3] for x in all_losses], label='train');\n",
    "plt.plot(epochs, [x[4] for x in all_losses], label='val');\n",
    "plt.legend();\n",
    "plt.xlabel('epoch');\n",
    "plt.ylabel('accuracy');"
   ]
  },
  {
   "cell_type": "code",
   "execution_count": 14,
   "metadata": {},
   "outputs": [
    {
     "data": {
      "image/png": "[encoded data removed]",
      "text/plain": [
       "<matplotlib.figure.Figure at 0x7f41943777b8>"
      ]
     },
     "metadata": {},
     "output_type": "display_data"
    }
   ],
   "source": [
    "plt.plot(epochs, [x[5] for x in all_losses], label='train');\n",
    "plt.plot(epochs, [x[6] for x in all_losses], label='val');\n",
    "plt.legend();\n",
    "plt.xlabel('epoch');\n",
    "plt.ylabel('top5_accuracy');"
   ]
  },
  {
   "cell_type": "markdown",
   "metadata": {},
   "source": [
    "# Save"
   ]
  },
  {
   "cell_type": "code",
   "execution_count": 15,
   "metadata": {
    "collapsed": true
   },
   "outputs": [],
   "source": [
    "model.cpu();\n",
    "torch.save(model.state_dict(), 'model.pytorch_state')"
   ]
  }
 ],
 "metadata": {
  "kernelspec": {
   "display_name": "Python 3",
   "language": "python",
   "name": "python3"
  },
  "language_info": {
   "codemirror_mode": {
    "name": "ipython",
    "version": 3
   },
   "file_extension": ".py",
   "mimetype": "text/x-python",
   "name": "python",
   "nbconvert_exporter": "python",
   "pygments_lexer": "ipython3",
   "version": "3.5.2"
  }
 },
 "nbformat": 4,
 "nbformat_minor": 2
}
