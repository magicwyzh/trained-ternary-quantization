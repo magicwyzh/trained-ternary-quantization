{
 "cells": [
  {
   "cell_type": "code",
   "execution_count": 1,
   "metadata": {
    "collapsed": true
   },
   "outputs": [],
   "source": [
    "%load_ext autoreload\n",
    "%autoreload 2"
   ]
  },
  {
   "cell_type": "code",
   "execution_count": 2,
   "metadata": {},
   "outputs": [
    {
     "data": {
      "text/plain": [
       "True"
      ]
     },
     "execution_count": 2,
     "metadata": {},
     "output_type": "execute_result"
    }
   ],
   "source": [
    "from math import ceil\n",
    "import torch\n",
    "from torch.utils.data import DataLoader\n",
    "\n",
    "import matplotlib.pyplot as plt\n",
    "%matplotlib inline\n",
    "\n",
    "import sys\n",
    "sys.path.append('../utils/')\n",
    "from data_utils import get_image_folders\n",
    "from train_utils import train\n",
    "from diagnostic_tools import count_params\n",
    "    \n",
    "torch.cuda.is_available()"
   ]
  },
  {
   "cell_type": "code",
   "execution_count": 3,
   "metadata": {
    "collapsed": true
   },
   "outputs": [],
   "source": [
    "torch.backends.cudnn.benchmark = True"
   ]
  },
  {
   "cell_type": "markdown",
   "metadata": {},
   "source": [
    "# Create data iterators"
   ]
  },
  {
   "cell_type": "code",
   "execution_count": 4,
   "metadata": {
    "collapsed": true
   },
   "outputs": [],
   "source": [
    "batch_size = 256"
   ]
  },
  {
   "cell_type": "code",
   "execution_count": 5,
   "metadata": {},
   "outputs": [
    {
     "data": {
      "text/plain": [
       "100000"
      ]
     },
     "execution_count": 5,
     "metadata": {},
     "output_type": "execute_result"
    }
   ],
   "source": [
    "train_folder, val_folder = get_image_folders()\n",
    "\n",
    "train_iterator = DataLoader(\n",
    "    train_folder, batch_size=batch_size, num_workers=4,\n",
    "    shuffle=True, pin_memory=True\n",
    ")\n",
    "\n",
    "val_iterator = DataLoader(\n",
    "    val_folder, batch_size=256, num_workers=4,\n",
    "    shuffle=False, pin_memory=True\n",
    ")\n",
    "\n",
    "# number of training samples\n",
    "train_size = len(train_folder.imgs)\n",
    "train_size"
   ]
  },
  {
   "cell_type": "code",
   "execution_count": 6,
   "metadata": {},
   "outputs": [
    {
     "data": {
      "text/plain": [
       "10000"
      ]
     },
     "execution_count": 6,
     "metadata": {},
     "output_type": "execute_result"
    }
   ],
   "source": [
    "# number of validation samples\n",
    "val_size = len(val_folder.imgs)\n",
    "val_size"
   ]
  },
  {
   "cell_type": "markdown",
   "metadata": {},
   "source": [
    "# Model"
   ]
  },
  {
   "cell_type": "code",
   "execution_count": 7,
   "metadata": {
    "collapsed": true
   },
   "outputs": [],
   "source": [
    "from get_squeezenet import get_model"
   ]
  },
  {
   "cell_type": "code",
   "execution_count": 8,
   "metadata": {
    "collapsed": true,
    "scrolled": true
   },
   "outputs": [],
   "source": [
    "model, criterion, optimizer = get_model()"
   ]
  },
  {
   "cell_type": "code",
   "execution_count": 9,
   "metadata": {},
   "outputs": [
    {
     "data": {
      "text/plain": [
       "827784"
      ]
     },
     "execution_count": 9,
     "metadata": {},
     "output_type": "execute_result"
    }
   ],
   "source": [
    "# number of params in the model\n",
    "count_params(model)"
   ]
  },
  {
   "cell_type": "markdown",
   "metadata": {},
   "source": [
    "# Train"
   ]
  },
  {
   "cell_type": "code",
   "execution_count": 10,
   "metadata": {},
   "outputs": [
    {
     "data": {
      "text/plain": [
       "391"
      ]
     },
     "execution_count": 10,
     "metadata": {},
     "output_type": "execute_result"
    }
   ],
   "source": [
    "from torch.optim.lr_scheduler import ReduceLROnPlateau\n",
    "\n",
    "n_epochs = 200\n",
    "n_batches = ceil(train_size/batch_size)\n",
    "\n",
    "lr_scheduler = ReduceLROnPlateau(\n",
    "    optimizer, mode='max', factor=0.1, patience=4, \n",
    "    verbose=True, threshold=0.01, threshold_mode='abs'\n",
    ")\n",
    "\n",
    "# total number of batches in the train set\n",
    "n_batches"
   ]
  },
  {
   "cell_type": "code",
   "execution_count": 11,
   "metadata": {
    "scrolled": false
   },
   "outputs": [
    {
     "name": "stdout",
     "output_type": "stream",
     "text": [
      "0  4.773 4.193  0.055 0.120  0.168 0.311  38.826\n",
      "1  3.972 3.703  0.144 0.186  0.357 0.420  37.584\n",
      "2  3.633 3.400  0.198 0.236  0.439 0.490  37.458\n",
      "3  3.415 3.201  0.234 0.263  0.488 0.537  37.559\n",
      "4  3.246 3.166  0.262 0.280  0.527 0.539  37.823\n",
      "5  3.112 3.010  0.289 0.299  0.553 0.575  37.762\n",
      "6  3.011 2.970  0.307 0.315  0.577 0.587  37.702\n",
      "7  2.920 2.831  0.322 0.335  0.595 0.615  37.724\n",
      "8  2.845 2.837  0.337 0.339  0.610 0.616  37.622\n",
      "9  2.774 2.698  0.351 0.365  0.623 0.641  37.459\n",
      "10  2.714 2.627  0.362 0.376  0.635 0.655  37.561\n",
      "11  2.656 2.651  0.373 0.367  0.648 0.649  37.356\n",
      "12  2.602 2.598  0.383 0.382  0.658 0.660  37.828\n",
      "13  2.557 2.603  0.393 0.388  0.667 0.661  37.479\n",
      "14  2.518 2.505  0.399 0.404  0.674 0.678  37.536\n",
      "15  2.473 2.489  0.410 0.409  0.682 0.678  37.703\n",
      "16  2.438 2.507  0.418 0.403  0.690 0.677  37.607\n",
      "17  2.412 2.480  0.419 0.412  0.695 0.689  37.643\n",
      "18  2.384 2.472  0.427 0.412  0.699 0.686  37.400\n",
      "19  2.351 2.432  0.433 0.419  0.706 0.696  37.992\n",
      "20  2.324 2.390  0.439 0.429  0.709 0.697  37.663\n",
      "21  2.295 2.365  0.445 0.432  0.717 0.704  37.458\n",
      "22  2.275 2.337  0.447 0.445  0.720 0.708  37.835\n",
      "23  2.250 2.397  0.454 0.431  0.723 0.701  37.491\n",
      "24  2.231 2.370  0.457 0.439  0.728 0.706  37.581\n",
      "25  2.217 2.311  0.462 0.450  0.731 0.718  37.659\n",
      "26  2.198 2.342  0.463 0.441  0.733 0.712  37.631\n",
      "27  2.173 2.366  0.470 0.444  0.737 0.704  37.680\n",
      "Epoch    27: reducing learning rate of group 0 to 4.0000e-03.\n",
      "Epoch    27: reducing learning rate of group 1 to 4.0000e-03.\n",
      "Epoch    27: reducing learning rate of group 2 to 4.0000e-03.\n",
      "Epoch    27: reducing learning rate of group 3 to 4.0000e-03.\n",
      "28  1.915 2.079  0.526 0.499  0.780 0.753  37.778\n",
      "29  1.836 2.063  0.543 0.504  0.792 0.761  37.628\n",
      "30  1.802 2.061  0.551 0.507  0.798 0.756  37.743\n",
      "31  1.783 2.054  0.554 0.508  0.801 0.759  37.618\n",
      "32  1.773 2.063  0.559 0.507  0.803 0.758  37.595\n",
      "33  1.753 2.078  0.561 0.503  0.806 0.754  37.765\n",
      "Epoch    33: reducing learning rate of group 0 to 4.0000e-04.\n",
      "Epoch    33: reducing learning rate of group 1 to 4.0000e-04.\n",
      "Epoch    33: reducing learning rate of group 2 to 4.0000e-04.\n",
      "Epoch    33: reducing learning rate of group 3 to 4.0000e-04.\n",
      "34  1.710 2.044  0.570 0.511  0.814 0.762  37.611\n",
      "35  1.701 2.039  0.572 0.512  0.814 0.761  37.493\n",
      "36  1.700 2.038  0.573 0.512  0.814 0.763  37.666\n",
      "37  1.699 2.037  0.573 0.511  0.815 0.765  37.454\n",
      "38  1.698 2.040  0.573 0.512  0.815 0.764  37.602\n",
      "39  1.693 2.033  0.575 0.511  0.816 0.764  37.682\n",
      "early stopping!\n",
      "CPU times: user 11min 10s, sys: 2min 23s, total: 13min 34s\n",
      "Wall time: 25min 6s\n"
     ]
    }
   ],
   "source": [
    "%%time\n",
    "all_losses = train(\n",
    "    model, criterion, optimizer,\n",
    "    train_iterator, n_epochs, steps_per_epoch=n_batches,\n",
    "    val_iterator=val_iterator, n_validation_batches=40,\n",
    "    patience=8, threshold=0.01, # early stopping\n",
    "    lr_scheduler=lr_scheduler\n",
    ")\n",
    "# epoch logloss  accuracy    top5_accuracy time  (first value: train, second value: val)"
   ]
  },
  {
   "cell_type": "markdown",
   "metadata": {},
   "source": [
    "# Loss/epoch plots"
   ]
  },
  {
   "cell_type": "code",
   "execution_count": 12,
   "metadata": {},
   "outputs": [
    {
     "data": {
      "image/png": "[encoded data removed]",
      "text/plain": [
       "<matplotlib.figure.Figure at 0x7f8b18475860>"
      ]
     },
     "metadata": {},
     "output_type": "display_data"
    }
   ],
   "source": [
    "epochs = [x[0] for x in all_losses]\n",
    "plt.plot(epochs, [x[1] for x in all_losses], label='train');\n",
    "plt.plot(epochs, [x[2] for x in all_losses], label='val');\n",
    "plt.legend();\n",
    "plt.xlabel('epoch');\n",
    "plt.ylabel('loss');"
   ]
  },
  {
   "cell_type": "code",
   "execution_count": 13,
   "metadata": {},
   "outputs": [
    {
     "data": {
      "image/png": "[encoded data removed]",
      "text/plain": [
       "<matplotlib.figure.Figure at 0x7f8b16f967f0>"
      ]
     },
     "metadata": {},
     "output_type": "display_data"
    }
   ],
   "source": [
    "plt.plot(epochs, [x[3] for x in all_losses], label='train');\n",
    "plt.plot(epochs, [x[4] for x in all_losses], label='val');\n",
    "plt.legend();\n",
    "plt.xlabel('epoch');\n",
    "plt.ylabel('accuracy');"
   ]
  },
  {
   "cell_type": "code",
   "execution_count": 14,
   "metadata": {},
   "outputs": [
    {
     "data": {
      "image/png": "[encoded data removed]",
      "text/plain": [
       "<matplotlib.figure.Figure at 0x7f8b13f2bac8>"
      ]
     },
     "metadata": {},
     "output_type": "display_data"
    }
   ],
   "source": [
    "plt.plot(epochs, [x[5] for x in all_losses], label='train');\n",
    "plt.plot(epochs, [x[6] for x in all_losses], label='val');\n",
    "plt.legend();\n",
    "plt.xlabel('epoch');\n",
    "plt.ylabel('top5_accuracy');"
   ]
  },
  {
   "cell_type": "markdown",
   "metadata": {},
   "source": [
    "# Save"
   ]
  },
  {
   "cell_type": "code",
   "execution_count": 15,
   "metadata": {
    "collapsed": true
   },
   "outputs": [],
   "source": [
    "model.cpu();\n",
    "torch.save(model.state_dict(), 'model.pytorch_state')"
   ]
  }
 ],
 "metadata": {
  "kernelspec": {
   "display_name": "Python 3",
   "language": "python",
   "name": "python3"
  },
  "language_info": {
   "codemirror_mode": {
    "name": "ipython",
    "version": 3
   },
   "file_extension": ".py",
   "mimetype": "text/x-python",
   "name": "python",
   "nbconvert_exporter": "python",
   "pygments_lexer": "ipython3",
   "version": "3.5.2"
  }
 },
 "nbformat": 4,
 "nbformat_minor": 2
}
