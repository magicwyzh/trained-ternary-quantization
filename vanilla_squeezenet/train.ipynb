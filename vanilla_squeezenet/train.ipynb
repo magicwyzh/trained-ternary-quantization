{
 "cells": [
  {
   "cell_type": "code",
   "execution_count": 1,
   "metadata": {
    "collapsed": true
   },
   "outputs": [],
   "source": [
    "%load_ext autoreload\n",
    "%autoreload 2"
   ]
  },
  {
   "cell_type": "code",
   "execution_count": 2,
   "metadata": {},
   "outputs": [
    {
     "data": {
      "text/plain": [
       "True"
      ]
     },
     "execution_count": 2,
     "metadata": {},
     "output_type": "execute_result"
    }
   ],
   "source": [
    "from math import ceil\n",
    "import torch\n",
    "from torch.utils.data import DataLoader\n",
    "\n",
    "import matplotlib.pyplot as plt\n",
    "%matplotlib inline\n",
    "\n",
    "import sys\n",
    "sys.path.append('..')\n",
    "from utils.input_pipeline import get_image_folders\n",
    "from utils.training import train, optimization_step\n",
    "from utils.diagnostic import count_params\n",
    "    \n",
    "torch.cuda.is_available()"
   ]
  },
  {
   "cell_type": "code",
   "execution_count": 3,
   "metadata": {
    "collapsed": true
   },
   "outputs": [],
   "source": [
    "torch.backends.cudnn.benchmark = True"
   ]
  },
  {
   "cell_type": "markdown",
   "metadata": {},
   "source": [
    "# Create data iterators"
   ]
  },
  {
   "cell_type": "code",
   "execution_count": 4,
   "metadata": {
    "collapsed": true
   },
   "outputs": [],
   "source": [
    "batch_size = 128"
   ]
  },
  {
   "cell_type": "code",
   "execution_count": 5,
   "metadata": {},
   "outputs": [
    {
     "data": {
      "text/plain": [
       "100000"
      ]
     },
     "execution_count": 5,
     "metadata": {},
     "output_type": "execute_result"
    }
   ],
   "source": [
    "train_folder, val_folder = get_image_folders()\n",
    "\n",
    "train_iterator = DataLoader(\n",
    "    train_folder, batch_size=batch_size, num_workers=4,\n",
    "    shuffle=True, pin_memory=True\n",
    ")\n",
    "\n",
    "val_iterator = DataLoader(\n",
    "    val_folder, batch_size=256, num_workers=4,\n",
    "    shuffle=False, pin_memory=True\n",
    ")\n",
    "\n",
    "# number of training samples\n",
    "train_size = len(train_folder.imgs)\n",
    "train_size"
   ]
  },
  {
   "cell_type": "code",
   "execution_count": 6,
   "metadata": {},
   "outputs": [
    {
     "data": {
      "text/plain": [
       "10000"
      ]
     },
     "execution_count": 6,
     "metadata": {},
     "output_type": "execute_result"
    }
   ],
   "source": [
    "# number of validation samples\n",
    "val_size = len(val_folder.imgs)\n",
    "val_size"
   ]
  },
  {
   "cell_type": "markdown",
   "metadata": {},
   "source": [
    "# Model"
   ]
  },
  {
   "cell_type": "code",
   "execution_count": 7,
   "metadata": {
    "collapsed": true
   },
   "outputs": [],
   "source": [
    "from get_squeezenet import get_model"
   ]
  },
  {
   "cell_type": "code",
   "execution_count": 8,
   "metadata": {
    "collapsed": true,
    "scrolled": true
   },
   "outputs": [],
   "source": [
    "model, loss, optimizer = get_model()"
   ]
  },
  {
   "cell_type": "code",
   "execution_count": 9,
   "metadata": {},
   "outputs": [
    {
     "data": {
      "text/plain": [
       "827784"
      ]
     },
     "execution_count": 9,
     "metadata": {},
     "output_type": "execute_result"
    }
   ],
   "source": [
    "# number of params in the model\n",
    "count_params(model)"
   ]
  },
  {
   "cell_type": "markdown",
   "metadata": {},
   "source": [
    "# Train"
   ]
  },
  {
   "cell_type": "code",
   "execution_count": 10,
   "metadata": {},
   "outputs": [
    {
     "data": {
      "text/plain": [
       "782"
      ]
     },
     "execution_count": 10,
     "metadata": {},
     "output_type": "execute_result"
    }
   ],
   "source": [
    "from torch.optim.lr_scheduler import ReduceLROnPlateau\n",
    "\n",
    "n_epochs = 200\n",
    "n_batches = ceil(train_size/batch_size)\n",
    "\n",
    "lr_scheduler = ReduceLROnPlateau(\n",
    "    optimizer, mode='max', factor=0.1, patience=4, \n",
    "    verbose=True, threshold=0.01, threshold_mode='abs'\n",
    ")\n",
    "\n",
    "# total number of batches in the train set\n",
    "n_batches"
   ]
  },
  {
   "cell_type": "code",
   "execution_count": 11,
   "metadata": {
    "scrolled": false
   },
   "outputs": [
    {
     "name": "stdout",
     "output_type": "stream",
     "text": [
      "0  4.768 4.074  0.053 0.118  0.165 0.327  115.271\n",
      "1  3.948 3.709  0.145 0.175  0.363 0.419  113.210\n",
      "2  3.634 3.363  0.193 0.228  0.437 0.498  113.220\n",
      "3  3.436 3.255  0.227 0.253  0.485 0.520  113.171\n",
      "4  3.294 3.139  0.252 0.275  0.515 0.552  113.301\n",
      "5  3.193 3.086  0.268 0.284  0.538 0.565  113.149\n",
      "6  3.089 2.988  0.288 0.305  0.562 0.583  113.123\n",
      "7  3.025 2.940  0.300 0.312  0.576 0.597  113.105\n",
      "8  2.952 2.947  0.314 0.315  0.590 0.597  113.212\n",
      "9  2.903 2.900  0.324 0.329  0.601 0.602  113.163\n",
      "10  2.862 2.767  0.332 0.349  0.610 0.624  113.071\n",
      "11  2.822 2.732  0.340 0.357  0.616 0.639  113.108\n",
      "12  2.782 2.738  0.346 0.352  0.626 0.634  113.138\n",
      "13  2.754 2.819  0.351 0.341  0.632 0.620  113.156\n",
      "14  2.734 2.681  0.355 0.363  0.636 0.646  113.206\n",
      "15  2.709 2.693  0.362 0.363  0.642 0.642  113.168\n",
      "16  2.690 2.761  0.364 0.352  0.644 0.627  113.054\n",
      "17  2.673 2.637  0.365 0.379  0.648 0.655  112.994\n",
      "18  2.653 2.666  0.373 0.368  0.650 0.653  113.018\n",
      "19  2.635 2.696  0.376 0.359  0.654 0.648  113.105\n",
      "20  2.628 2.585  0.377 0.388  0.655 0.664  113.004\n",
      "21  2.620 2.640  0.379 0.374  0.658 0.654  113.123\n",
      "22  2.602 2.596  0.383 0.386  0.661 0.660  113.102\n",
      "Epoch    22: reducing learning rate of group 0 to 4.0000e-03.\n",
      "Epoch    22: reducing learning rate of group 1 to 4.0000e-03.\n",
      "Epoch    22: reducing learning rate of group 2 to 4.0000e-03.\n",
      "Epoch    22: reducing learning rate of group 3 to 4.0000e-03.\n",
      "23  2.202 2.154  0.469 0.475  0.732 0.743  113.071\n",
      "24  2.074 2.116  0.493 0.485  0.753 0.749  113.004\n",
      "25  2.024 2.116  0.503 0.486  0.760 0.754  113.051\n",
      "26  1.995 2.082  0.509 0.496  0.767 0.755  112.939\n",
      "27  1.962 2.079  0.516 0.495  0.773 0.757  113.034\n",
      "28  1.944 2.073  0.519 0.497  0.776 0.758  113.073\n",
      "29  1.930 2.084  0.521 0.495  0.778 0.755  113.067\n",
      "30  1.910 2.051  0.526 0.498  0.781 0.764  113.023\n",
      "31  1.896 2.056  0.529 0.500  0.784 0.760  112.984\n",
      "32  1.891 2.073  0.528 0.499  0.784 0.757  113.065\n",
      "33  1.876 2.082  0.534 0.499  0.787 0.759  112.994\n",
      "Epoch    33: reducing learning rate of group 0 to 4.0000e-04.\n",
      "Epoch    33: reducing learning rate of group 1 to 4.0000e-04.\n",
      "Epoch    33: reducing learning rate of group 2 to 4.0000e-04.\n",
      "Epoch    33: reducing learning rate of group 3 to 4.0000e-04.\n",
      "34  1.775 1.978  0.556 0.517  0.803 0.771  112.831\n",
      "35  1.746 1.980  0.563 0.521  0.807 0.773  112.862\n",
      "36  1.731 1.977  0.567 0.520  0.810 0.771  113.006\n",
      "37  1.727 1.970  0.566 0.524  0.811 0.773  113.034\n",
      "38  1.722 1.979  0.567 0.525  0.811 0.774  113.045\n",
      "39  1.721 1.975  0.568 0.523  0.811 0.773  113.064\n",
      "Epoch    39: reducing learning rate of group 0 to 4.0000e-05.\n",
      "Epoch    39: reducing learning rate of group 1 to 4.0000e-05.\n",
      "Epoch    39: reducing learning rate of group 2 to 4.0000e-05.\n",
      "Epoch    39: reducing learning rate of group 3 to 4.0000e-05.\n",
      "40  1.707 1.968  0.571 0.526  0.814 0.774  113.096\n",
      "41  1.700 1.967  0.572 0.525  0.816 0.774  112.965\n",
      "42  1.704 1.972  0.571 0.525  0.815 0.774  113.022\n",
      "43  1.704 1.971  0.572 0.524  0.813 0.775  112.907\n",
      "44  1.697 1.968  0.575 0.524  0.816 0.774  112.902\n",
      "early stopping!\n",
      "CPU times: user 1h 12min 2s, sys: 13min 11s, total: 1h 25min 14s\n",
      "Wall time: 1h 24min 50s\n"
     ]
    }
   ],
   "source": [
    "%%time\n",
    "def optimization_step_fn(model, loss, x_batch, y_batch):\n",
    "    return optimization_step(model, loss, x_batch, y_batch, optimizer)\n",
    "\n",
    "all_losses = train(\n",
    "    model, loss, optimization_step_fn,\n",
    "    train_iterator, val_iterator,\n",
    "    n_epochs=n_epochs, steps_per_epoch=n_batches, n_validation_batches=40,\n",
    "    patience=8, threshold=0.01,  # for early stopping\n",
    "    lr_scheduler=lr_scheduler\n",
    ")\n",
    "# epoch logloss  accuracy    top5_accuracy time  (first value: train, second value: val)"
   ]
  },
  {
   "cell_type": "markdown",
   "metadata": {},
   "source": [
    "# Loss/epoch plots"
   ]
  },
  {
   "cell_type": "code",
   "execution_count": 12,
   "metadata": {},
   "outputs": [
    {
     "data": {
      "image/png": "[encoded data removed]",
      "text/plain": [
       "<matplotlib.figure.Figure at 0x7f932d7976a0>"
      ]
     },
     "metadata": {},
     "output_type": "display_data"
    }
   ],
   "source": [
    "epochs = [x[0] for x in all_losses]\n",
    "plt.plot(epochs, [x[1] for x in all_losses], label='train');\n",
    "plt.plot(epochs, [x[2] for x in all_losses], label='val');\n",
    "plt.legend();\n",
    "plt.xlabel('epoch');\n",
    "plt.ylabel('loss');"
   ]
  },
  {
   "cell_type": "code",
   "execution_count": 13,
   "metadata": {},
   "outputs": [
    {
     "data": {
      "image/png": "[encoded data removed]",
      "text/plain": [
       "<matplotlib.figure.Figure at 0x7f932d797710>"
      ]
     },
     "metadata": {},
     "output_type": "display_data"
    }
   ],
   "source": [
    "plt.plot(epochs, [x[3] for x in all_losses], label='train');\n",
    "plt.plot(epochs, [x[4] for x in all_losses], label='val');\n",
    "plt.legend();\n",
    "plt.xlabel('epoch');\n",
    "plt.ylabel('accuracy');"
   ]
  },
  {
   "cell_type": "code",
   "execution_count": 14,
   "metadata": {},
   "outputs": [
    {
     "data": {
      "image/png": "[encoded data removed]",
      "text/plain": [
       "<matplotlib.figure.Figure at 0x7f932ee82cf8>"
      ]
     },
     "metadata": {},
     "output_type": "display_data"
    }
   ],
   "source": [
    "plt.plot(epochs, [x[5] for x in all_losses], label='train');\n",
    "plt.plot(epochs, [x[6] for x in all_losses], label='val');\n",
    "plt.legend();\n",
    "plt.xlabel('epoch');\n",
    "plt.ylabel('top5_accuracy');"
   ]
  },
  {
   "cell_type": "markdown",
   "metadata": {},
   "source": [
    "# Save"
   ]
  },
  {
   "cell_type": "code",
   "execution_count": 15,
   "metadata": {
    "collapsed": true
   },
   "outputs": [],
   "source": [
    "model.cpu();\n",
    "torch.save(model.state_dict(), 'model.pytorch_state')"
   ]
  }
 ],
 "metadata": {
  "kernelspec": {
   "display_name": "Python 3",
   "language": "python",
   "name": "python3"
  },
  "language_info": {
   "codemirror_mode": {
    "name": "ipython",
    "version": 3
   },
   "file_extension": ".py",
   "mimetype": "text/x-python",
   "name": "python",
   "nbconvert_exporter": "python",
   "pygments_lexer": "ipython3",
   "version": "3.6.1"
  }
 },
 "nbformat": 4,
 "nbformat_minor": 2
}
